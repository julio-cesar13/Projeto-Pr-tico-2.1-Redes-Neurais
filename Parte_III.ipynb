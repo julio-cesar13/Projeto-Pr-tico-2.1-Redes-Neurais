{
  "cells": [
    {
      "cell_type": "markdown",
      "metadata": {
        "id": "tGW2-fVUHPsE"
      },
      "source": [
        "Importando os dados"
      ]
    },
    {
      "cell_type": "code",
      "execution_count": null,
      "metadata": {
        "colab": {
          "base_uri": "https://localhost:8080/",
          "height": 73
        },
        "id": "5iP1KUNTEYdQ",
        "outputId": "743d24ea-c1ea-4022-e0da-58d61f9ce1be"
      },
      "outputs": [
        {
          "data": {
            "text/html": [
              "\n",
              "     <input type=\"file\" id=\"files-999dfce1-0d0a-494c-9a22-741d296444eb\" name=\"files[]\" multiple disabled\n",
              "        style=\"border:none\" />\n",
              "     <output id=\"result-999dfce1-0d0a-494c-9a22-741d296444eb\">\n",
              "      Upload widget is only available when the cell has been executed in the\n",
              "      current browser session. Please rerun this cell to enable.\n",
              "      </output>\n",
              "      <script>// Copyright 2017 Google LLC\n",
              "//\n",
              "// Licensed under the Apache License, Version 2.0 (the \"License\");\n",
              "// you may not use this file except in compliance with the License.\n",
              "// You may obtain a copy of the License at\n",
              "//\n",
              "//      http://www.apache.org/licenses/LICENSE-2.0\n",
              "//\n",
              "// Unless required by applicable law or agreed to in writing, software\n",
              "// distributed under the License is distributed on an \"AS IS\" BASIS,\n",
              "// WITHOUT WARRANTIES OR CONDITIONS OF ANY KIND, either express or implied.\n",
              "// See the License for the specific language governing permissions and\n",
              "// limitations under the License.\n",
              "\n",
              "/**\n",
              " * @fileoverview Helpers for google.colab Python module.\n",
              " */\n",
              "(function(scope) {\n",
              "function span(text, styleAttributes = {}) {\n",
              "  const element = document.createElement('span');\n",
              "  element.textContent = text;\n",
              "  for (const key of Object.keys(styleAttributes)) {\n",
              "    element.style[key] = styleAttributes[key];\n",
              "  }\n",
              "  return element;\n",
              "}\n",
              "\n",
              "// Max number of bytes which will be uploaded at a time.\n",
              "const MAX_PAYLOAD_SIZE = 100 * 1024;\n",
              "\n",
              "function _uploadFiles(inputId, outputId) {\n",
              "  const steps = uploadFilesStep(inputId, outputId);\n",
              "  const outputElement = document.getElementById(outputId);\n",
              "  // Cache steps on the outputElement to make it available for the next call\n",
              "  // to uploadFilesContinue from Python.\n",
              "  outputElement.steps = steps;\n",
              "\n",
              "  return _uploadFilesContinue(outputId);\n",
              "}\n",
              "\n",
              "// This is roughly an async generator (not supported in the browser yet),\n",
              "// where there are multiple asynchronous steps and the Python side is going\n",
              "// to poll for completion of each step.\n",
              "// This uses a Promise to block the python side on completion of each step,\n",
              "// then passes the result of the previous step as the input to the next step.\n",
              "function _uploadFilesContinue(outputId) {\n",
              "  const outputElement = document.getElementById(outputId);\n",
              "  const steps = outputElement.steps;\n",
              "\n",
              "  const next = steps.next(outputElement.lastPromiseValue);\n",
              "  return Promise.resolve(next.value.promise).then((value) => {\n",
              "    // Cache the last promise value to make it available to the next\n",
              "    // step of the generator.\n",
              "    outputElement.lastPromiseValue = value;\n",
              "    return next.value.response;\n",
              "  });\n",
              "}\n",
              "\n",
              "/**\n",
              " * Generator function which is called between each async step of the upload\n",
              " * process.\n",
              " * @param {string} inputId Element ID of the input file picker element.\n",
              " * @param {string} outputId Element ID of the output display.\n",
              " * @return {!Iterable<!Object>} Iterable of next steps.\n",
              " */\n",
              "function* uploadFilesStep(inputId, outputId) {\n",
              "  const inputElement = document.getElementById(inputId);\n",
              "  inputElement.disabled = false;\n",
              "\n",
              "  const outputElement = document.getElementById(outputId);\n",
              "  outputElement.innerHTML = '';\n",
              "\n",
              "  const pickedPromise = new Promise((resolve) => {\n",
              "    inputElement.addEventListener('change', (e) => {\n",
              "      resolve(e.target.files);\n",
              "    });\n",
              "  });\n",
              "\n",
              "  const cancel = document.createElement('button');\n",
              "  inputElement.parentElement.appendChild(cancel);\n",
              "  cancel.textContent = 'Cancel upload';\n",
              "  const cancelPromise = new Promise((resolve) => {\n",
              "    cancel.onclick = () => {\n",
              "      resolve(null);\n",
              "    };\n",
              "  });\n",
              "\n",
              "  // Wait for the user to pick the files.\n",
              "  const files = yield {\n",
              "    promise: Promise.race([pickedPromise, cancelPromise]),\n",
              "    response: {\n",
              "      action: 'starting',\n",
              "    }\n",
              "  };\n",
              "\n",
              "  cancel.remove();\n",
              "\n",
              "  // Disable the input element since further picks are not allowed.\n",
              "  inputElement.disabled = true;\n",
              "\n",
              "  if (!files) {\n",
              "    return {\n",
              "      response: {\n",
              "        action: 'complete',\n",
              "      }\n",
              "    };\n",
              "  }\n",
              "\n",
              "  for (const file of files) {\n",
              "    const li = document.createElement('li');\n",
              "    li.append(span(file.name, {fontWeight: 'bold'}));\n",
              "    li.append(span(\n",
              "        `(${file.type || 'n/a'}) - ${file.size} bytes, ` +\n",
              "        `last modified: ${\n",
              "            file.lastModifiedDate ? file.lastModifiedDate.toLocaleDateString() :\n",
              "                                    'n/a'} - `));\n",
              "    const percent = span('0% done');\n",
              "    li.appendChild(percent);\n",
              "\n",
              "    outputElement.appendChild(li);\n",
              "\n",
              "    const fileDataPromise = new Promise((resolve) => {\n",
              "      const reader = new FileReader();\n",
              "      reader.onload = (e) => {\n",
              "        resolve(e.target.result);\n",
              "      };\n",
              "      reader.readAsArrayBuffer(file);\n",
              "    });\n",
              "    // Wait for the data to be ready.\n",
              "    let fileData = yield {\n",
              "      promise: fileDataPromise,\n",
              "      response: {\n",
              "        action: 'continue',\n",
              "      }\n",
              "    };\n",
              "\n",
              "    // Use a chunked sending to avoid message size limits. See b/62115660.\n",
              "    let position = 0;\n",
              "    do {\n",
              "      const length = Math.min(fileData.byteLength - position, MAX_PAYLOAD_SIZE);\n",
              "      const chunk = new Uint8Array(fileData, position, length);\n",
              "      position += length;\n",
              "\n",
              "      const base64 = btoa(String.fromCharCode.apply(null, chunk));\n",
              "      yield {\n",
              "        response: {\n",
              "          action: 'append',\n",
              "          file: file.name,\n",
              "          data: base64,\n",
              "        },\n",
              "      };\n",
              "\n",
              "      let percentDone = fileData.byteLength === 0 ?\n",
              "          100 :\n",
              "          Math.round((position / fileData.byteLength) * 100);\n",
              "      percent.textContent = `${percentDone}% done`;\n",
              "\n",
              "    } while (position < fileData.byteLength);\n",
              "  }\n",
              "\n",
              "  // All done.\n",
              "  yield {\n",
              "    response: {\n",
              "      action: 'complete',\n",
              "    }\n",
              "  };\n",
              "}\n",
              "\n",
              "scope.google = scope.google || {};\n",
              "scope.google.colab = scope.google.colab || {};\n",
              "scope.google.colab._files = {\n",
              "  _uploadFiles,\n",
              "  _uploadFilesContinue,\n",
              "};\n",
              "})(self);\n",
              "</script> "
            ],
            "text/plain": [
              "<IPython.core.display.HTML object>"
            ]
          },
          "metadata": {},
          "output_type": "display_data"
        },
        {
          "name": "stdout",
          "output_type": "stream",
          "text": [
            "Saving dataHoldout.txt to dataHoldout.txt\n"
          ]
        }
      ],
      "source": [
        "import numpy as np\n",
        "import matplotlib.pyplot as plt\n"
      ]
    },
    {
      "cell_type": "markdown",
      "metadata": {
        "id": "DCrsmFUSHVfn"
      },
      "source": [
        "Convertendo para Numpy"
      ]
    },
    {
      "cell_type": "code",
      "execution_count": null,
      "metadata": {
        "colab": {
          "base_uri": "https://localhost:8080/"
        },
        "id": "t_LBi-3AEpx8",
        "outputId": "f773d236-9a56-446b-8ac9-ad97b213dc46"
      },
      "outputs": [
        {
          "name": "stdout",
          "output_type": "stream",
          "text": [
            "[[-0.29322959 -0.09065359  1.        ]\n",
            " [ 0.07988839  0.21101297  1.        ]\n",
            " [-0.07825563 -0.08083512  1.        ]\n",
            " ...\n",
            " [ 0.65980493  1.05876739  0.        ]\n",
            " [ 1.09867123  0.87404891  0.        ]\n",
            " [ 0.72930655  0.93224271  0.        ]]\n"
          ]
        }
      ],
      "source": [
        "\n",
        "\n",
        "dados = np.fromfile('dataHoldout.txt', dtype=np.float64)\n",
        "dados = dados.reshape(-1, 3)\n",
        "print(dados)"
      ]
    },
    {
      "cell_type": "markdown",
      "metadata": {
        "id": "Pusfm2gwIyWj"
      },
      "source": [
        "Plotando Gráfico"
      ]
    },
    {
      "cell_type": "code",
      "execution_count": 34,
      "metadata": {
        "colab": {
          "base_uri": "https://localhost:8080/",
          "height": 449
        },
        "id": "RQgqsil4H22Q",
        "outputId": "0d0925fb-1fcd-4e89-cd60-520ad486970e"
      },
      "outputs": [
        {
          "data": {
            "image/png": "[encoded data removed]",
            "text/plain": [
              "<Figure size 640x480 with 1 Axes>"
            ]
          },
          "metadata": {},
          "output_type": "display_data"
        }
      ],
      "source": [
        "# Exemplo com classes\n",
        "X = dados[:, :2]  # pega x1 e x2\n",
        "y = dados[:, 2]   # pega yd\n",
        "\n",
        "plt.scatter(X[y==0,0], X[y==0,1], c='red', label='Classe 0')\n",
        "plt.scatter(X[y==1,0], X[y==1,1], c='blue', label='Classe 1')\n",
        "plt.xlabel('x1')\n",
        "plt.ylabel('x2')\n",
        "plt.legend()\n",
        "plt.show()\n"
      ]
    },
    {
      "cell_type": "markdown",
      "metadata": {
        "id": "3rYQwmVBRxXE"
      },
      "source": [
        "Dividir dataset"
      ]
    },
    {
      "cell_type": "code",
      "execution_count": 37,
      "metadata": {
        "colab": {
          "base_uri": "https://localhost:8080/"
        },
        "id": "T6CsZZgPKHDY",
        "outputId": "16bb4e64-b19d-40ad-cadb-03b3f93a4ee6"
      },
      "outputs": [
        {
          "name": "stdout",
          "output_type": "stream",
          "text": [
            "560\n",
            "240\n"
          ]
        }
      ],
      "source": [
        "np.random.seed(4)\n",
        "\n",
        "dados_aleatorios = np.random.permutation(dados)\n",
        "\n",
        "#Dados de Treinamento 70%\n",
        "dados_treinamento = dados_aleatorios[:int(0.7*len(dados_aleatorios))]\n",
        "\n",
        "#Dados de Teste 30%\n",
        "dados_teste = dados_aleatorios[int(0.7*len(dados_aleatorios)):]\n",
        "\n",
        "\n"
      ]
    },
    {
      "cell_type": "markdown",
      "metadata": {
        "id": "N5Bg5lxaVQY1"
      },
      "source": [
        "Criar a classe do perceptron"
      ]
    },
    {
      "cell_type": "code",
      "execution_count": 57,
      "metadata": {
        "id": "csZrBAo0VMio"
      },
      "outputs": [],
      "source": [
        "class PerceptronRosenblat():\n",
        "  def __init__(self):\n",
        "    #Vies\n",
        "    self.vies = 1\n",
        "    #Ao iniciar a classe, os pesos são atribuidos de forma randomica\n",
        "    self.pesos= np.array([np.random.uniform(-0.5,0.5),np.random.uniform(-0.5,0.5),np.random.uniform(-0.5,0.5)])\n",
        "    self.taxa_de_aprendizado = 0.1\n",
        "\n",
        "  def adicionar_vies(self, dados):\n",
        "    for x in dados:\n",
        "      dados_com_vies = np.array([np.insert(x, 0, self.vies) for x in dados])\n",
        "    return dados_com_vies\n",
        "\n",
        "  def funcao_ativacao_degrau(self, u):\n",
        "    if u >= 0:\n",
        "      return 1\n",
        "    else:\n",
        "      return 0\n",
        "\n",
        "  def calcular_previsao(self,entradas):\n",
        "    previsao = np.sum(entradas*self.pesos)\n",
        "\n",
        "    return self.funcao_ativacao_degrau(float(previsao))\n",
        "\n",
        "  def reajustar_pesos(self,entradas, saida, saida_desejada):\n",
        "    novos_peso = self.pesos + self.taxa_de_aprendizado*(saida_desejada-saida)*entradas\n",
        "    self.pesos = novos_peso\n",
        "\n",
        "  def treinar(self, dados, epocas):\n",
        "    dados = self.adicionar_vies(dados)\n",
        "\n",
        "    for epoca in range(epocas):\n",
        "      for x in dados:\n",
        "        prever = self.calcular_previsao(x[:3])\n",
        "\n",
        "        #Caso errar a previsão\n",
        "        if(prever != x[3]):\n",
        "          self.reajustar_pesos(x[:3], prever, x[3])\n",
        "    return self.pesos\n",
        "\n",
        "  def prever(self, dados):\n",
        "    dados = self.adicionar_vies(dados)\n",
        "    previsoes = []\n",
        "    for x in dados:\n",
        "      previsao = self.calcular_previsao(x[:3])\n",
        "      previsoes.append(previsao)\n",
        "\n",
        "    return previsao\n"
      ]
    },
    {
      "cell_type": "code",
      "execution_count": 60,
      "metadata": {
        "colab": {
          "base_uri": "https://localhost:8080/"
        },
        "id": "pySPFMUjgrYz",
        "outputId": "3c0a2cff-03db-448d-c0b4-80a697e020b9"
      },
      "outputs": [
        {
          "name": "stdout",
          "output_type": "stream",
          "text": [
            "Acurácia: 0.25\n"
          ]
        }
      ],
      "source": [
        "#instanciar perceptron\n",
        "perceptron = PerceptronRosenblat()\n",
        "\n",
        "#Treinar\n",
        "perceptron.treinar(dados_treinamento, 100)\n",
        "\n",
        "#Testar\n",
        "entradas = dados_teste[:, :2]\n",
        "saidas = dados_teste[:, 2]\n",
        "previsoes = perceptron.prever(entradas)\n",
        "\n",
        "#acuracia\n",
        "acertos = previsoes == saidas\n",
        "acuracia = np.mean(acertos)\n",
        "print(\"Acurácia:\", acuracia)\n",
        "\n"
      ]
    },
    {
      "cell_type": "code",
      "execution_count": null,
      "metadata": {
        "id": "kV1W9plfmK4t"
      },
      "outputs": [],
      "source": []
    }
  ],
  "metadata": {
    "colab": {
      "provenance": []
    },
    "kernelspec": {
      "display_name": "Python 3",
      "name": "python3"
    },
    "language_info": {
      "name": "python"
    }
  },
  "nbformat": 4,
  "nbformat_minor": 0
}
