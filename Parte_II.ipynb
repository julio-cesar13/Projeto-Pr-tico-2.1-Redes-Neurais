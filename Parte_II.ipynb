{
  "cells": [
    {
      "cell_type": "markdown",
      "id": "75d47518",
      "metadata": {
        "id": "75d47518"
      },
      "source": [
        "\n",
        "Notebook 2 - Parte 2 do Trabalho"
      ]
    },
    {
      "cell_type": "markdown",
      "source": [
        "**Parte** 2 definindo o identificador da equipe\n"
      ],
      "metadata": {
        "id": "ZV6iKU3QY88X"
      },
      "id": "ZV6iKU3QY88X"
    },
    {
      "cell_type": "code",
      "source": [
        "import numpy as np\n",
        "\n",
        "# Últimos dígitos das matrículas da equipe\n",
        "# 141570016 Guilhermo\n",
        "# 2215310039 Jorge Henrique\n",
        "# 2215310042 Larissa\n",
        "# 2215310015 Julio\n",
        "ultimos_digitos = np.array([5, 6, 9, 2])  # exemplo\n",
        "\n",
        "# Soma dos dígitos\n",
        "soma = np.sum(ultimos_digitos)\n",
        "\n",
        "# Identificador da equipe (resto da divisão por 4)\n",
        "identificador = soma % 4\n",
        "print(\"Identificador da equipe:\", identificador)\n",
        "print(f\"O arquivo de dados a ser usado é: data{identificador}.txt\")"
      ],
      "metadata": {
        "colab": {
          "base_uri": "https://localhost:8080/"
        },
        "id": "t5-cRpMMGHLc",
        "outputId": "60bfdc2a-c34b-49d8-b9ca-7ae93cfc90bd"
      },
      "id": "t5-cRpMMGHLc",
      "execution_count": 17,
      "outputs": [
        {
          "output_type": "stream",
          "name": "stdout",
          "text": [
            "Identificador da equipe: 2\n",
            "O arquivo de dados a ser usado é: data2.txt\n"
          ]
        }
      ]
    },
    {
      "cell_type": "markdown",
      "source": [
        "Fazendo a experimentação com o data2"
      ],
      "metadata": {
        "id": "Jjn4EpxqIHh9"
      },
      "id": "Jjn4EpxqIHh9"
    },
    {
      "cell_type": "code",
      "source": [
        "import numpy as np\n",
        "from prettytable import PrettyTable\n",
        "\n",
        "def experimentar_com_prettytable(dados, taxas_aprendizado, intervalos):\n",
        "    resultados = PrettyTable()\n",
        "    resultados.field_names = [\"η\", \"Intervalo Pesos\", \"Média Ajustes ± Desvio\", \"Menor nº de Épocas\"]\n",
        "\n",
        "    # separar entradas (x1,x2) e saídas (yd)\n",
        "    X = dados[:, :2]\n",
        "    y = dados[:, 2]\n",
        "    # adicionar bias = 1\n",
        "    X_bias = np.hstack((np.ones((X.shape[0], 1)), X))\n",
        "\n",
        "    for eta in taxas_aprendizado:\n",
        "        for intervalo in intervalos:\n",
        "            ajustes_list = []\n",
        "            epocas_list = []\n",
        "            for _ in range(10):  # 10 repetições\n",
        "                # instanciar perceptron\n",
        "                perceptron = PerceptronRosenblat()\n",
        "                perceptron.taxa_de_aprendizado = eta\n",
        "                perceptron.pesos = np.array([\n",
        "                    np.random.uniform(intervalo[0], intervalo[1]),\n",
        "                    np.random.uniform(intervalo[0], intervalo[1]),\n",
        "                    np.random.uniform(intervalo[0], intervalo[1])\n",
        "                ])\n",
        "\n",
        "                perceptron.epoca_count = 0\n",
        "                perceptron.ajuste_count = 0\n",
        "\n",
        "                convergiu = False\n",
        "                max_epocas = 1000\n",
        "                while not convergiu and perceptron.epoca_count < max_epocas:\n",
        "                    perceptron.ajuste_flag = False\n",
        "                    for i in range(X_bias.shape[0]):\n",
        "                        entrada = X_bias[i]   # [1, x1, x2]\n",
        "                        alvo = y[i]           # yd\n",
        "                        prever = perceptron.calcular_previsao(entrada)\n",
        "                        if prever != alvo:\n",
        "                            perceptron.reajustar_pesos(entrada, prever, alvo)\n",
        "                            perceptron.ajuste_flag = True\n",
        "                    perceptron.epoca_count += 1\n",
        "                    if perceptron.ajuste_flag == False:\n",
        "                        convergiu = True\n",
        "\n",
        "                ajustes_list.append(perceptron.ajuste_count)\n",
        "                epocas_list.append(perceptron.epoca_count)\n",
        "\n",
        "            # métricas pedidas\n",
        "            media = np.mean(ajustes_list)\n",
        "            desvio = np.std(ajustes_list)\n",
        "            menor_epoca = np.min(epocas_list)\n",
        "\n",
        "            resultados.add_row([eta, intervalo, f\"{media:.2f} ± {desvio:.2f}\", menor_epoca])\n",
        "\n",
        "    return resultados\n",
        "\n",
        "\n",
        "# ========================\n",
        "# Configurações da Parte II\n",
        "# ========================\n",
        "etas = [0.4, 0.1, 0.01]\n",
        "intervalos = [(-100, 100), (-0.5, 0.5)]\n",
        "\n",
        "",
        "dados = np.fromfile(\"data2.txt\", dtype=np.float64).reshape(-1, 3)\n",
        "\n",
        "# executar experimentos\n",
        "print(experimentar_com_prettytable(dados, etas, intervalos))\n"
      ],
      "metadata": {
        "colab": {
          "base_uri": "https://localhost:8080/"
        },
        "id": "FTB2VR_5Y8id",
        "outputId": "f39bd0c8-c534-49f0-e4de-3c6b6c03579d"
      },
      "id": "FTB2VR_5Y8id",
      "execution_count": 18,
      "outputs": [
        {
          "output_type": "stream",
          "name": "stdout",
          "text": [
            "+------+-----------------+------------------------+--------------------+\n",
            "|  η   | Intervalo Pesos | Média Ajustes ± Desvio | Menor nº de Épocas |\n",
            "+------+-----------------+------------------------+--------------------+\n",
            "| 0.4  |   (-100, 100)   |    467.40 ± 172.21     |         9          |\n",
            "| 0.4  |   (-0.5, 0.5)   |      11.60 ± 6.99      |         4          |\n",
            "| 0.1  |   (-100, 100)   |    1246.90 ± 594.70    |         12         |\n",
            "| 0.1  |   (-0.5, 0.5)   |      14.40 ± 7.45      |         2          |\n",
            "| 0.01 |   (-100, 100)   |   16810.30 ± 6366.55   |         41         |\n",
            "| 0.01 |   (-0.5, 0.5)   |     85.10 ± 41.34      |         3          |\n",
            "+------+-----------------+------------------------+--------------------+\n"
          ]
        }
      ]
    }
  ],
  "metadata": {
    "kernelspec": {
      "display_name": "Python 3",
      "language": "python",
      "name": "python3"
    },
    "language_info": {
      "codemirror_mode": {
        "name": "ipython",
        "version": 3
      },
      "file_extension": ".py",
      "mimetype": "text/x-python",
      "name": "python",
      "nbconvert_exporter": "python",
      "pygments_lexer": "ipython3",
      "version": "3.11.8"
    },
    "colab": {
      "provenance": []
    }
  },
  "nbformat": 4,
  "nbformat_minor": 5
}
